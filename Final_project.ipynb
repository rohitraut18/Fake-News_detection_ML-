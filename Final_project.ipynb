{
 "cells": [
  {
   "cell_type": "markdown",
   "metadata": {
    "id": "dMcxtNqDnzWh"
   },
   "source": [
    "**## The Code runtime is around 1 hours.**"
   ]
  },
  {
   "cell_type": "markdown",
   "metadata": {
    "id": "v2WT1BpYy6vh"
   },
   "source": [
    "Data sources:\n",
    "\n",
    "https://www.kaggle.com/datasets/ruchi798/source-based-news-classification\n",
    "\n",
    "https://www.kaggle.com/datasets/clmentbisaillon/fake-and-real-news-dataset?resource=download\n",
    "\n",
    "https://www.kaggle.com/datasets/mrisdal/fake-news\n",
    "\n"
   ]
  },
  {
   "cell_type": "markdown",
   "metadata": {
    "id": "DuhrDT5izD-Q"
   },
   "source": [
    "# **Import Libraries**"
   ]
  },
  {
   "cell_type": "code",
   "execution_count": null,
   "metadata": {
    "id": "yEwRSQ1aijgk"
   },
   "outputs": [],
   "source": [
    "import pandas as pd\n",
    "import numpy as np\n",
    "import seaborn as sns\n",
    "from sklearn.model_selection import train_test_split\n",
    "from sklearn.feature_extraction.text import TfidfVectorizer\n",
    "\n",
    "from sklearn.metrics import accuracy_score\n",
    "from sklearn.metrics import confusion_matrix\n",
    "from sklearn.metrics import classification_report\n",
    "\n",
    "from sklearn.linear_model import PassiveAggressiveClassifier\n",
    "from sklearn.ensemble import GradientBoostingClassifier\n",
    "from sklearn import svm\n",
    "from sklearn.linear_model import LogisticRegression\n",
    "import seaborn as sns\n",
    "\n",
    "import matplotlib.pyplot as plt\n",
    "from sklearn.metrics import plot_confusion_matrix"
   ]
  },
  {
   "cell_type": "markdown",
   "metadata": {
    "id": "202m2vNJzOFB"
   },
   "source": [
    "# **Import Data Sets**\n",
    "## Column: title, text, label"
   ]
  },
  {
   "cell_type": "code",
   "execution_count": 2,
   "metadata": {
    "colab": {
     "base_uri": "https://localhost:8080/"
    },
    "id": "oAvbwymji71U",
    "outputId": "a48143d0-42cf-4623-90a4-1888b5b9eb31"
   },
   "outputs": [
    {
     "name": "stdout",
     "output_type": "stream",
     "text": [
      "<class 'pandas.core.frame.DataFrame'>\n",
      "RangeIndex: 8481 entries, 0 to 8480\n",
      "Data columns (total 3 columns):\n",
      " #   Column  Non-Null Count  Dtype \n",
      "---  ------  --------------  ----- \n",
      " 0   title   8481 non-null   object\n",
      " 1   text    8481 non-null   object\n",
      " 2   label   8481 non-null   int64 \n",
      "dtypes: int64(1), object(2)\n",
      "memory usage: 198.9+ KB\n",
      "None\n"
     ]
    }
   ],
   "source": [
    "df1=pd.read_csv(\"Fake.csv\")\n",
    "df1.drop(axis=0, index=df1.index[-15000:], inplace=True)\n",
    "df1 = df1[['title', 'text']]\n",
    "df1['label'] = 0\n",
    "print(df1.info())\n",
    "# print(df1.head(3))"
   ]
  },
  {
   "cell_type": "code",
   "execution_count": 3,
   "metadata": {
    "colab": {
     "base_uri": "https://localhost:8080/"
    },
    "id": "XDSRqe65ku3T",
    "outputId": "ccc1b40e-1050-4dc2-93db-de0418e2c3d4"
   },
   "outputs": [
    {
     "name": "stdout",
     "output_type": "stream",
     "text": [
      "<class 'pandas.core.frame.DataFrame'>\n",
      "RangeIndex: 11417 entries, 0 to 11416\n",
      "Data columns (total 3 columns):\n",
      " #   Column  Non-Null Count  Dtype \n",
      "---  ------  --------------  ----- \n",
      " 0   title   11417 non-null  object\n",
      " 1   text    11417 non-null  object\n",
      " 2   label   11417 non-null  int64 \n",
      "dtypes: int64(1), object(2)\n",
      "memory usage: 267.7+ KB\n",
      "None\n"
     ]
    }
   ],
   "source": [
    "df2=pd.read_csv(\"True.csv\")\n",
    "df2.drop(axis=0, index=df2.index[-10000:], inplace=True)\n",
    "df2 = df2[['title', 'text']]\n",
    "df2['label'] = 1\n",
    "print(df2.info())\n",
    "# print(df2.head(3))"
   ]
  },
  {
   "cell_type": "code",
   "execution_count": 4,
   "metadata": {
    "colab": {
     "base_uri": "https://localhost:8080/"
    },
    "id": "pfgC0bOklTJK",
    "outputId": "570f987d-c085-4e6c-9292-881fad28f2f4"
   },
   "outputs": [
    {
     "name": "stdout",
     "output_type": "stream",
     "text": [
      "<class 'pandas.core.frame.DataFrame'>\n",
      "RangeIndex: 6335 entries, 0 to 6334\n",
      "Data columns (total 3 columns):\n",
      " #   Column  Non-Null Count  Dtype \n",
      "---  ------  --------------  ----- \n",
      " 0   title   6335 non-null   object\n",
      " 1   text    6335 non-null   object\n",
      " 2   label   6335 non-null   int64 \n",
      "dtypes: int64(1), object(2)\n",
      "memory usage: 148.6+ KB\n",
      "None\n"
     ]
    }
   ],
   "source": [
    "df3=pd.read_csv(\"news.csv\")\n",
    "df3 = df3[['title', 'text', 'label']]\n",
    "df3['label'] = df3['label'].map({'FAKE':0 ,'REAL':1})\n",
    "print(df3.info())\n",
    "# print(df3.head(3))"
   ]
  },
  {
   "cell_type": "code",
   "execution_count": 5,
   "metadata": {
    "colab": {
     "base_uri": "https://localhost:8080/"
    },
    "id": "F0ssRt3Rl1Ek",
    "outputId": "92a47be3-cb5c-42b5-cf8a-f452b6cac7fb"
   },
   "outputs": [
    {
     "name": "stdout",
     "output_type": "stream",
     "text": [
      "<class 'pandas.core.frame.DataFrame'>\n",
      "Int64Index: 2045 entries, 0 to 2045\n",
      "Data columns (total 3 columns):\n",
      " #   Column  Non-Null Count  Dtype \n",
      "---  ------  --------------  ----- \n",
      " 0   title   2045 non-null   object\n",
      " 1   text    2045 non-null   object\n",
      " 2   label   2045 non-null   int64 \n",
      "dtypes: int64(1), object(2)\n",
      "memory usage: 63.9+ KB\n",
      "None\n"
     ]
    }
   ],
   "source": [
    "df4=pd.read_csv(\"news_articles.csv\")\n",
    "df4 = df4.dropna()\n",
    "df4 = df4[['title', 'text', 'label']]\n",
    "df4['label'] = df4['label'].map({'Fake':0 ,'Real':1})\n",
    "print(df4.info())\n",
    "# print(df4.head(3))"
   ]
  },
  {
   "cell_type": "code",
   "execution_count": 6,
   "metadata": {
    "colab": {
     "base_uri": "https://localhost:8080/"
    },
    "id": "8MA3dRaxmjhL",
    "outputId": "ff4788b8-1e2e-4404-833a-6f06d3cea514"
   },
   "outputs": [
    {
     "name": "stdout",
     "output_type": "stream",
     "text": [
      "<class 'pandas.core.frame.DataFrame'>\n",
      "Int64Index: 28278 entries, 0 to 2045\n",
      "Data columns (total 3 columns):\n",
      " #   Column  Non-Null Count  Dtype \n",
      "---  ------  --------------  ----- \n",
      " 0   title   28278 non-null  object\n",
      " 1   text    28278 non-null  object\n",
      " 2   label   28278 non-null  int64 \n",
      "dtypes: int64(1), object(2)\n",
      "memory usage: 883.7+ KB\n",
      "None\n",
      "\n",
      "Total of Fake data: 12936\n",
      "Total of Real data: 15342\n"
     ]
    }
   ],
   "source": [
    "# concatenating df1, df2, df3, df4 to df\n",
    "df = pd.concat([df1,df2,df3, df4], axis=0)\n",
    "print(df.info())\n",
    "\n",
    "print('\\nTotal of Fake data:', (df['label'] == 0).sum())\n",
    "print('Total of Real data:', (df['label'] == 1).sum())"
   ]
  },
  {
   "cell_type": "code",
   "execution_count": 7,
   "metadata": {
    "colab": {
     "base_uri": "https://localhost:8080/",
     "height": 285
    },
    "id": "8tWEPP7UK_yC",
    "outputId": "26c27952-416a-4654-ccdf-2e704831aa11"
   },
   "outputs": [
    {
     "data": {
      "image/png": "[encoded data removed]",
      "text/plain": [
       "<Figure size 432x288 with 1 Axes>"
      ]
     },
     "metadata": {},
     "output_type": "display_data"
    }
   ],
   "source": [
    "sns.set_theme(style=\"darkgrid\")\n",
    "ax = sns.countplot(x='label', data=df)"
   ]
  },
  {
   "cell_type": "markdown",
   "metadata": {
    "id": "XE-MMxgczoew"
   },
   "source": [
    "# **Check null value**"
   ]
  },
  {
   "cell_type": "code",
   "execution_count": 8,
   "metadata": {
    "colab": {
     "base_uri": "https://localhost:8080/",
     "height": 285
    },
    "id": "FNb04M51oF_Z",
    "outputId": "33753687-3a8f-4360-da8a-42762db27790"
   },
   "outputs": [
    {
     "data": {
      "text/plain": [
       "<AxesSubplot:>"
      ]
     },
     "execution_count": 8,
     "metadata": {},
     "output_type": "execute_result"
    },
    {
     "data": {
      "image/png": "[encoded data removed]",
      "text/plain": [
       "<Figure size 432x288 with 1 Axes>"
      ]
     },
     "metadata": {},
     "output_type": "display_data"
    }
   ],
   "source": [
    "sns.heatmap(df.isnull(),yticklabels=False,cbar=False,cmap='viridis')"
   ]
  },
  {
   "cell_type": "code",
   "execution_count": 9,
   "metadata": {
    "colab": {
     "base_uri": "https://localhost:8080/"
    },
    "id": "zxud8U-KoHbD",
    "outputId": "68982bc5-88e0-4ab3-e090-4b5b9b7fee65"
   },
   "outputs": [
    {
     "data": {
      "text/plain": [
       "title    0\n",
       "text     0\n",
       "label    0\n",
       "dtype: int64"
      ]
     },
     "execution_count": 9,
     "metadata": {},
     "output_type": "execute_result"
    }
   ],
   "source": [
    "df.isnull().sum()"
   ]
  },
  {
   "cell_type": "markdown",
   "metadata": {
    "id": "xjFSQj3Aztow"
   },
   "source": [
    "# **Set Up Train/Test Data**"
   ]
  },
  {
   "cell_type": "code",
   "execution_count": 10,
   "metadata": {
    "id": "YbLV-MGjm09y"
   },
   "outputs": [],
   "source": [
    "labels = df['label']\n",
    "df = df.drop(['label'], axis=1)"
   ]
  },
  {
   "cell_type": "code",
   "execution_count": 11,
   "metadata": {
    "id": "bwN29vhYxqKq"
   },
   "outputs": [],
   "source": [
    "X_train,X_test,y_train,y_test=train_test_split(df['text'], labels, test_size=0.2, random_state=42)"
   ]
  },
  {
   "cell_type": "code",
   "execution_count": 12,
   "metadata": {
    "colab": {
     "base_uri": "https://localhost:8080/"
    },
    "id": "TvbnrHAAQXrV",
    "outputId": "8ed080d0-eda7-41dd-94a6-44cf16aadf88"
   },
   "outputs": [
    {
     "name": "stdout",
     "output_type": "stream",
     "text": [
      "X_train shape:  (22622,)\n",
      "X_test shape:  (5656,)\n"
     ]
    }
   ],
   "source": [
    "print(\"X_train shape: \", X_train.shape)\n",
    "print(\"X_test shape: \", X_test.shape)"
   ]
  },
  {
   "cell_type": "markdown",
   "metadata": {
    "id": "Y_aPJZg-z6Iy"
   },
   "source": [
    "# **Transform the Data Set**"
   ]
  },
  {
   "cell_type": "code",
   "execution_count": 13,
   "metadata": {
    "id": "O1ONaZfNoEMK"
   },
   "outputs": [],
   "source": [
    "# Init the TfidfVectorizer function\n",
    "vectorizer = TfidfVectorizer()\n",
    "\n",
    "# Transform training data set\n",
    "X_train = vectorizer.fit_transform(X_train) \n",
    "\n",
    "# Transform testing data set\n",
    "X_test = vectorizer.transform(X_test)"
   ]
  },
  {
   "cell_type": "markdown",
   "metadata": {
    "id": "j4lWSfNw0IRq"
   },
   "source": [
    "# **Models**"
   ]
  },
  {
   "cell_type": "markdown",
   "metadata": {
    "id": "A29aEvnk0N7I"
   },
   "source": [
    "Passive Aggressive Classifier"
   ]
  },
  {
   "cell_type": "code",
   "execution_count": 14,
   "metadata": {
    "colab": {
     "base_uri": "https://localhost:8080/"
    },
    "id": "DxCXN99g5ldJ",
    "outputId": "6f09d6bb-89f5-4538-d325-0a8226dfc65f"
   },
   "outputs": [
    {
     "name": "stdout",
     "output_type": "stream",
     "text": [
      "The confusion matrix is: \n",
      "[[2442  139]\n",
      " [ 132 2943]]\n",
      "\n",
      "The accuracy score is: 95.21%\n",
      "\n",
      "The classification report is:\n",
      "               precision    recall  f1-score   support\n",
      "\n",
      "           0       0.95      0.95      0.95      2581\n",
      "           1       0.95      0.96      0.96      3075\n",
      "\n",
      "    accuracy                           0.95      5656\n",
      "   macro avg       0.95      0.95      0.95      5656\n",
      "weighted avg       0.95      0.95      0.95      5656\n",
      "\n"
     ]
    }
   ],
   "source": [
    "# Set paramaters\n",
    "pac = PassiveAggressiveClassifier(max_iter=50, C = 0.5)\n",
    "\n",
    "# training model\n",
    "pac.fit(X_train, y_train)\n",
    "\n",
    "# predicting\n",
    "pac_pred = pac.predict(X_test)\n",
    "\n",
    "# Display the accuracy score\n",
    "pac_score = accuracy_score(y_test, pac_pred)\n",
    "\n",
    "print('The confusion matrix is: ')\n",
    "print(confusion_matrix(y_test, pac_pred))\n",
    "print(f'\\nThe accuracy score is: {round((pac_score)*100, 2)}%')\n",
    "print('\\nThe classification report is:\\n', classification_report(y_test,pac_pred))"
   ]
  },
  {
   "cell_type": "markdown",
   "metadata": {
    "id": "AAkeGp160YIB"
   },
   "source": [
    "Gradient Boosting Classifier"
   ]
  },
  {
   "cell_type": "code",
   "execution_count": 15,
   "metadata": {
    "colab": {
     "base_uri": "https://localhost:8080/"
    },
    "id": "sxsXeXQgru7O",
    "outputId": "a0bd2588-48be-42bd-ac6d-f184f440fc02"
   },
   "outputs": [
    {
     "name": "stdout",
     "output_type": "stream",
     "text": [
      "The confusion matrix is: \n",
      "[[2351  230]\n",
      " [ 208 2867]]\n",
      "\n",
      "The accuracy score is: 92.26%\n",
      "\n",
      "The classification report is:\n",
      "               precision    recall  f1-score   support\n",
      "\n",
      "           0       0.92      0.91      0.91      2581\n",
      "           1       0.93      0.93      0.93      3075\n",
      "\n",
      "    accuracy                           0.92      5656\n",
      "   macro avg       0.92      0.92      0.92      5656\n",
      "weighted avg       0.92      0.92      0.92      5656\n",
      "\n"
     ]
    }
   ],
   "source": [
    "#from sklearn.model_selection import GridSearchCV\n",
    "gbrt = GradientBoostingClassifier(learning_rate=0.1, max_depth= 5, max_features='sqrt')\n",
    "gbrt.fit(X_train, y_train)\n",
    "\n",
    "# predicting\n",
    "gbrt_pred = gbrt.predict(X_test)\n",
    "\n",
    "# Display the accuracy score\n",
    "gbrt_score = accuracy_score(y_test, gbrt_pred)\n",
    "\n",
    "print('The confusion matrix is: ')\n",
    "print(confusion_matrix(y_test, gbrt_pred))\n",
    "print(f'\\nThe accuracy score is: {round((gbrt_score)*100, 2)}%')\n",
    "print('\\nThe classification report is:\\n', classification_report(y_test,gbrt_pred))"
   ]
  },
  {
   "cell_type": "markdown",
   "metadata": {
    "id": "i0uzrw470box"
   },
   "source": [
    "Logistic Regression"
   ]
  },
  {
   "cell_type": "code",
   "execution_count": 16,
   "metadata": {
    "colab": {
     "base_uri": "https://localhost:8080/"
    },
    "id": "OQEHgyPxrw3y",
    "outputId": "1e6debf0-6853-4768-8ad9-0652ef359096"
   },
   "outputs": [
    {
     "name": "stdout",
     "output_type": "stream",
     "text": [
      "The confusion matrix is: \n",
      "[[2460  121]\n",
      " [ 208 2867]]\n",
      "\n",
      "The accuracy score is: 94.18%\n",
      "\n",
      "The classification report is:\n",
      "               precision    recall  f1-score   support\n",
      "\n",
      "           0       0.92      0.95      0.94      2581\n",
      "           1       0.96      0.93      0.95      3075\n",
      "\n",
      "    accuracy                           0.94      5656\n",
      "   macro avg       0.94      0.94      0.94      5656\n",
      "weighted avg       0.94      0.94      0.94      5656\n",
      "\n"
     ]
    }
   ],
   "source": [
    "# final Logistic Regression model\n",
    "lgr_model = LogisticRegression(C = 1.5, penalty = \"l2\")\n",
    "lgr_model.fit(X_train, y_train)\n",
    "lgr_prediction = lgr_model.predict(X_test)\n",
    "\n",
    "# Display the accuracy score\n",
    "lgr_score = accuracy_score(y_test, lgr_prediction)\n",
    "\n",
    "print('The confusion matrix is: ')\n",
    "print(confusion_matrix(y_test, lgr_prediction))\n",
    "print(f'\\nThe accuracy score is: {round((lgr_score)*100, 2)}%')\n",
    "print('\\nThe classification report is:\\n', classification_report(y_test,lgr_prediction))"
   ]
  },
  {
   "cell_type": "markdown",
   "metadata": {
    "id": "JcBe-vR40eAx"
   },
   "source": [
    "Support Vector Classifier"
   ]
  },
  {
   "cell_type": "code",
   "execution_count": 17,
   "metadata": {
    "colab": {
     "background_save": true
    },
    "id": "_hA52G0_ry3R"
   },
   "outputs": [
    {
     "name": "stdout",
     "output_type": "stream",
     "text": [
      "The confusion matrix is: \n",
      "[[2471  110]\n",
      " [ 152 2923]]\n",
      "\n",
      "The accuracy score is: 95.37%\n",
      "\n",
      "The classification report is:\n",
      "               precision    recall  f1-score   support\n",
      "\n",
      "           0       0.94      0.96      0.95      2581\n",
      "           1       0.96      0.95      0.96      3075\n",
      "\n",
      "    accuracy                           0.95      5656\n",
      "   macro avg       0.95      0.95      0.95      5656\n",
      "weighted avg       0.95      0.95      0.95      5656\n",
      "\n"
     ]
    }
   ],
   "source": [
    "SVM = svm.SVC(C=1.9, kernel='linear')\n",
    "SVM.fit(X_train, y_train)\n",
    "\n",
    "svm_prediction = SVM.predict(X_test)\n",
    "\n",
    "# Display the accuracy score\n",
    "svm_score = accuracy_score(y_test, svm_prediction)\n",
    "\n",
    "print('The confusion matrix is: ')\n",
    "print(confusion_matrix(y_test, svm_prediction))\n",
    "print(f'\\nThe accuracy score is: {round((svm_score)*100, 2)}%')\n",
    "print('\\nThe classification report is:\\n', classification_report(y_test,svm_prediction))"
   ]
  }
 ],
 "metadata": {
  "accelerator": "GPU",
  "colab": {
   "collapsed_sections": [],
   "name": "CSCI611_G3_v2.ipynb",
   "provenance": []
  },
  "kernelspec": {
   "display_name": "Python 3 (ipykernel)",
   "language": "python",
   "name": "python3"
  },
  "language_info": {
   "codemirror_mode": {
    "name": "ipython",
    "version": 3
   },
   "file_extension": ".py",
   "mimetype": "text/x-python",
   "name": "python",
   "nbconvert_exporter": "python",
   "pygments_lexer": "ipython3",
   "version": "3.9.5"
  }
 },
 "nbformat": 4,
 "nbformat_minor": 1
}
